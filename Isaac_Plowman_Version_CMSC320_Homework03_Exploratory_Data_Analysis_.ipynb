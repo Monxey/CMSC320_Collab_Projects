{
  "nbformat": 4,
  "nbformat_minor": 0,
  "metadata": {
    "colab": {
      "provenance": [],
      "include_colab_link": true
    },
    "kernelspec": {
      "name": "python3",
      "display_name": "Python 3"
    },
    "language_info": {
      "name": "python"
    }
  },
  "cells": [
    {
      "cell_type": "markdown",
      "metadata": {
        "id": "view-in-github",
        "colab_type": "text"
      },
      "source": [
        "<a href=\"https://colab.research.google.com/github/Monxey/CMSC320_Collab_Projects/blob/HW3/Isaac_Plowman_Version_CMSC320_Homework03_Exploratory_Data_Analysis_.ipynb\" target=\"_parent\"><img src=\"https://colab.research.google.com/assets/colab-badge.svg\" alt=\"Open In Colab\"/></a>"
      ]
    },
    {
      "cell_type": "markdown",
      "source": [
        "# **HOMEWORK 3...?** 🕵️⛈️\n",
        "## **DUE: *OCTOBER 15, 2024 @ 11:59 PM***\n",
        "## **24-HR LATE DUE DATE WITH A 15% PENALTY: *OCTOBER 16, 2024 @ 11:59 PM***\n",
        "\n",
        "### **Reminder: Please make sure your code runs before submitting your work. Code sections that do not run will receive 0 credits, no partials will be given. This is VERY important in real project development.**\n",
        "### **DO NOT REMOVE ANY PART OF ANY OF THE QUESTIONS OR YOU LOSE CREDIT**\n",
        "### *No Hardcoding either*  😋⚔️"
      ],
      "metadata": {
        "id": "RaBB74bMU58M"
      }
    },
    {
      "cell_type": "markdown",
      "source": [
        "#Part 1: Data Investigation Training - London Weather Mystery\n",
        "\n"
      ],
      "metadata": {
        "id": "cN-cmRL59fW4"
      }
    },
    {
      "cell_type": "markdown",
      "source": [
        "**Welcome Dectective in Training!**\n",
        "\n",
        "Before you start your official first case, we need to make sure that you are ready for the job. Your first challenge is to use your analytical skills to uncover hidden insights from some historical data.\n",
        "\n",
        "Your First training mission is to help the London Police Department(LPD) evaluate some historical data, to discover patterns that may aid in their future investigations.\n"
      ],
      "metadata": {
        "id": "s1fK9wmOSsYo"
      }
    },
    {
      "cell_type": "markdown",
      "source": [
        "## Q1) Analyzing London Weather Data (23 Points)\n"
      ],
      "metadata": {
        "id": "eF2CiN0N9fW4"
      }
    },
    {
      "cell_type": "markdown",
      "source": [
        "You will analyze a dataset (\"london_weather.csv\") containing historical daily weather observations for London. The dataset includes variables such as cloud cover, sunshine, temperatures, precipitation, and more.\n"
      ],
      "metadata": {
        "id": "fYit7NeN9fW4"
      }
    },
    {
      "cell_type": "markdown",
      "source": [
        "**TASK 1.1 (1 point):** In the code box below, load in the \"london_weather.csv\" dataset into a variable called ***weather_df***"
      ],
      "metadata": {
        "id": "qc8v3gmB9fW4"
      }
    },
    {
      "cell_type": "code",
      "source": [
        "# We've added some libraries, but feel free to add more!\n",
        "import pandas as pd\n",
        "from datetime import datetime\n",
        "import matplotlib.pyplot as plt\n",
        "import seaborn as sns"
      ],
      "metadata": {
        "id": "CX52uPA7uSHF"
      },
      "execution_count": null,
      "outputs": []
    },
    {
      "cell_type": "code",
      "source": [
        "#Write Your Code Here.\n",
        "# You must use the specified variable name for your result.\n",
        "weather_df = pd.read_csv(\"london_weather.csv\")"
      ],
      "metadata": {
        "id": "KDFO0C1S9fW5"
      },
      "execution_count": null,
      "outputs": []
    },
    {
      "cell_type": "markdown",
      "source": [
        "**Task 1.2 (2 point):** From the dataset above, notice that there are some missing values in the \"pressure\" column. Find out the percentage of missing values in the \"pressure\" column and put it in a variable called **nan_percentage*. Display the value and answer the question below\n",
        "\n"
      ],
      "metadata": {
        "id": "_SKQ7WPbgRNO"
      }
    },
    {
      "cell_type": "code",
      "source": [
        "# Write your code here.\n",
        "# You must use the specified variable name for your result.\n",
        "nan_percentage =\n"
      ],
      "metadata": {
        "id": "wXvKvwrZgQeX"
      },
      "execution_count": null,
      "outputs": []
    },
    {
      "cell_type": "markdown",
      "source": [
        "**Could dropping these rows with NaN pressures effect our analysis? Why or why not?**"
      ],
      "metadata": {
        "id": "nN3Nb-y5qQwT"
      }
    },
    {
      "cell_type": "markdown",
      "source": [
        "Your answer here:\n"
      ],
      "metadata": {
        "id": "BkPVFIbEqk3W"
      }
    },
    {
      "cell_type": "markdown",
      "source": [
        "**Task 1.3 (2 points):** Lets take a look at the distribution of pressure. Using a box plot graph the distribution of pressure. Then display your results\n"
      ],
      "metadata": {
        "id": "IYAEk3fqqqVn"
      }
    },
    {
      "cell_type": "code",
      "source": [
        "# Write your code here.\n",
        "# You must use the specified variable name for your result.\n",
        "weather_df"
      ],
      "metadata": {
        "id": "6HPbtgfeiwYL"
      },
      "execution_count": null,
      "outputs": []
    },
    {
      "cell_type": "markdown",
      "source": [
        "**TASK 1.4 (3 points):** You noticed that the date column is unusable in its current format. We now want to fix the date column to the format \"YYYY-MM-DD\". Notice that all the original dates are in the same format YYYYMMDD and have the type integer.\n",
        "\n",
        "First, convert/cast these dates  as a string, and then apply the necessary changes. Finally, display weather_df."
      ],
      "metadata": {
        "id": "l66EY-No9fW5"
      }
    },
    {
      "cell_type": "code",
      "source": [
        "# Write Your Code Here\n"
      ],
      "metadata": {
        "id": "oGyHhn7f9fW5"
      },
      "execution_count": null,
      "outputs": []
    },
    {
      "cell_type": "markdown",
      "source": [
        "**TASK 1.5 (2 points)**: Provide summary statistics for the dataset. HINT: There is a single method you can call that does this."
      ],
      "metadata": {
        "id": "TV9Zib_l9fW6"
      }
    },
    {
      "cell_type": "code",
      "source": [
        "# Write Your Code Here\n"
      ],
      "metadata": {
        "id": "0hYoLjvw9fW6"
      },
      "execution_count": null,
      "outputs": []
    },
    {
      "cell_type": "markdown",
      "source": [
        "**TASK 1.6 (1 point)** Describe what is something that we can learn from the summary statistics of this data set."
      ],
      "metadata": {
        "id": "yAkGdYbkTwT-"
      }
    },
    {
      "cell_type": "markdown",
      "source": [
        "Your answer here:"
      ],
      "metadata": {
        "id": "GbnImycfrmzB"
      }
    },
    {
      "cell_type": "markdown",
      "source": [
        "**TASK 1.7 (5 points):** In your detective work, finding relationships between variables can lead to important clues.\n",
        "\n",
        "Print the Pearson Correlation Coefficient Matrix for the variables max_temp, mean_temp, and precipitation. You should assign this to a variable called \"correlation_matrix\". Then, print this matrix.\n",
        "\n",
        "In the text box below, Please interpret the meaning of your result of the correlation"
      ],
      "metadata": {
        "id": "qZ8QDeh89fW6"
      }
    },
    {
      "cell_type": "code",
      "source": [
        "# Write Your Code Here.\n",
        "# You must use the specified variable name for your result.\n",
        "correlation_matrix ="
      ],
      "metadata": {
        "id": "4OTjJxqQ9fW6"
      },
      "execution_count": null,
      "outputs": []
    },
    {
      "cell_type": "markdown",
      "source": [
        "**Please write your interpretation here:**\n",
        "\n",
        "\n",
        "\n",
        "\n"
      ],
      "metadata": {
        "id": "BQoGZ5Vh9fW6"
      }
    },
    {
      "cell_type": "markdown",
      "source": [
        "**TASK 1.8 (2 points)** Create a visualization for the correlation created above, that shows the relationship between the variables."
      ],
      "metadata": {
        "id": "UJG8tc3pWs3q"
      }
    },
    {
      "cell_type": "code",
      "source": [
        "# Write your answer here\n"
      ],
      "metadata": {
        "id": "OvSUJiyqWL6R"
      },
      "execution_count": null,
      "outputs": []
    },
    {
      "cell_type": "markdown",
      "source": [
        "**TASK *1.9* (5 points)**: Now let's analyze the trend in average temperatures over a 20-year period using historical weather data. You will filter the dataset to include only the years between 1990 and 2010, calculate the average annual temperature for each of these years, and visualize the trend using a line plot.\n",
        "\n",
        "\n",
        "\n",
        "\n",
        "*   Create a new column called year by extracting the year from the date column. You can capture the year from the date using \"dt.year\"\n",
        "\n",
        "\n",
        "*   Filter the dataset to include only the rows where the year is between 1990 and 2010 (inclusive)\n",
        "\n",
        "\n",
        "\n",
        "*  Group the filtered dataset by the year column and calculate the average mean_temp for each year.\n",
        "\n",
        "*   Create a line plot to visualize the trend in average temperatures over the selected years.\n",
        "Title: \"Average Temperature (1990-2010)\"\n",
        "X-axis: \"Year\"\n",
        "Y-axis: \"Mean Temperature (°C)\"\n"
      ],
      "metadata": {
        "id": "-N3Vb5HU9fW7"
      }
    },
    {
      "cell_type": "code",
      "source": [
        "# Write Your Code Here\n"
      ],
      "metadata": {
        "id": "pPYTEdNR9fW7"
      },
      "execution_count": null,
      "outputs": []
    },
    {
      "cell_type": "markdown",
      "source": [
        "##Congratulations, Detective in Training!\n",
        "\n",
        "You've completed your training mission. With your new abilities, you're ready for your first real case!\n",
        "With your newly found knowledge, you have been transferred to the Police Department at the University of Maryland, College Park, US"
      ],
      "metadata": {
        "id": "MzOKMNFYXS8K"
      }
    },
    {
      "cell_type": "markdown",
      "source": [
        "# Part 2: Data Exploration- Who is the Culprit?\n",
        "\n",
        "\n"
      ],
      "metadata": {
        "id": "ZuEbtOi43OQc"
      }
    },
    {
      "cell_type": "markdown",
      "source": [
        "---\n",
        "---\n",
        "**DISCLAIMER: This is a fake story, not a real incident! We have created this story just for the data exploration purpose.**\n",
        "\n",
        "---\n",
        "---\n",
        "\n",
        "**Campus Police Department**\n",
        "\n",
        "Incident Report\n",
        "\n",
        "---\n",
        "\n",
        "**Incident Date:** September 26, 2024\n",
        "\n",
        "**Location of Incident:** 2nd Floor, Iribe Building\n",
        "\n",
        "**Items Left at the Scene:** Parking Permit\n",
        "\n",
        "**Case Number:** 2024-IRB-0027\n",
        "\n",
        "---\n",
        "**Victim Information:**\n",
        "\n",
        "**Name:** Dr. Fardina Alam\n",
        "\n",
        "**Affiliation:** University of Maryland, College Park\n",
        "\n",
        "**Position:** Professor\n",
        "\n",
        "**Contact Information:** fardina@umd.edu\n",
        "\n",
        "---\n",
        "\n",
        "**Incident Description:**\n",
        "\n",
        "On the evening of September 26, 2024, an unknown individual(s) unlawfully entered Dr. Fardina's room located on the 2nd floor of Iribe and stole a set of Markers. The stolen items were a set of limited edition markers that Dr. Fardina had spent years collecting. At the scene of the crime, an overnight parking permit with the numbers 08301000101 was found on the floor near Dr. Fardina's desk.\n",
        "\n",
        "\n",
        "\n",
        "\n"
      ],
      "metadata": {
        "id": "1kCoK2ZH4HdN"
      }
    },
    {
      "cell_type": "markdown",
      "source": [
        "## Instructions:\n",
        "\n",
        "In this assignment, you are tasked with solving the mystery of Dr. Fardina's stolen markers and finding the culprit.\n",
        "\n",
        "* To accomplish this, you will be provided with **8 data sets** containing key information related to the incident. The list of the data sets name given below:\n",
        "\n",
        " - Profiles\n",
        " - Witnesses\n",
        " - Medical Records\n",
        " - Lot 11B\n",
        " - Lot 1B\n",
        " - Lot 6\n",
        " - Regents Drive Garage\n",
        " - Interrogation Statements\n",
        "\n",
        "\n",
        "\n",
        "* Your goal is to analyze these data sets to uncover the clues and evidences that will lead you to the thief.\n",
        "\n",
        "**Be careful in following instructions as it may lead to you losing points :(**\n",
        "\n",
        "Take a moment to look at all the data sets below:\n",
        "\n",
        "---\n",
        "\n",
        "**Profiles:**\n",
        "\n",
        "This dataset contains information regarding all the potential people that could have committed the crime. General information regarding each person are as follows:\n",
        "- **ID:** A **unique** identification for each person\n",
        "- **Name:** The name of the person\n",
        "- **Location_during_crime:** The location of the person during the crime\n",
        "- **Eye_Color:** The eye color of the person\n",
        "- **Skin_Color:** The skin color of the person\n",
        "- **Hair_Color:** The hair color of the person\n",
        "\n",
        "**Medical Records:**\n",
        "\n",
        "This dataset contain the medical information regarding each of the potential suspects. Medical information regarding each person are as follows:\n",
        "\n",
        "- **ID:** A **unique** identification for each medical record\n",
        "- **PID:** The ID corresponding to each person in the profile\n",
        "- **Birthday:** The Birthday of each person\n",
        "- **Height:** The Height of each person\n",
        "- **Blood_Type:** The Blood Type of each person\n",
        "- **Insurance_Proivder:** The insurance provider for each person\n",
        "\n",
        "**Witnesses:**\n",
        "\n",
        "This dataset contains a statement from everyone in profiles, regarding suspicious things they saw during the time of the crime. Information that comes in this dataset are as follows:\n",
        "- **ID:** A **Unique** identification for each person\n",
        "- **Statement:** A statement from the person regarding a suspicious activity during the time of the crime\n",
        "\n",
        "\n",
        "**Interrogation Statements:**\n",
        "\n",
        "This datasets contains a statement from each person after they have been interrogated. **NOTE** assume that each statement is 100% true and that there are people who aren't in \"Profiles\" in this dataset. The Information contained in this dataset are as follows:\n",
        "\n",
        "- **Name:** The name of the person being interrogated\n",
        "- **Statement:** A statement the person gives after being interrogated\n",
        "\n",
        "**Lots & Garages On Campus:**\n",
        "\n",
        "These datasets contain every person that has a permit in those lots\n",
        "\n",
        "- **P_id:** A **Unique** identification for each person\n",
        "\n",
        "\n",
        "\n",
        "\n",
        "---"
      ],
      "metadata": {
        "id": "ZBLEXsMU7gqH"
      }
    },
    {
      "cell_type": "markdown",
      "source": [
        "## Q1) Lets begin by observing the profiles dataset (11 Points)\n",
        "\n",
        "\n",
        "**TASK 1.1 (2 Point):**  In the code boxes below, load in \"Profiles\" dataset into a variable called **profiles_df** and load \"Medical_Records\" into a variable called **medical_df** . Display them both when you are done\n",
        "\n",
        "\n",
        "\n"
      ],
      "metadata": {
        "id": "x-yyybk6EOO2"
      }
    },
    {
      "cell_type": "code",
      "source": [
        "# Profiles here.\n",
        "# You must use the specified variable name for your result.\n",
        "profiles_df =\n"
      ],
      "metadata": {
        "id": "-IXWhyv5Eczh"
      },
      "execution_count": null,
      "outputs": []
    },
    {
      "cell_type": "code",
      "source": [
        "# Medical Records here.\n",
        "# You must use the specified variable name for your result.\n",
        "medical_df"
      ],
      "metadata": {
        "id": "vNm7oSCKaiE7"
      },
      "execution_count": null,
      "outputs": []
    },
    {
      "cell_type": "markdown",
      "source": [
        "**TASK 1.2 (1 Point):**  Next, you need to display the number of rows and columns in the \"Profiles\" dataset."
      ],
      "metadata": {
        "id": "aNBECwLXto9e"
      }
    },
    {
      "cell_type": "code",
      "source": [
        "# Type your code here\n"
      ],
      "metadata": {
        "id": "LnRyYhsZtpTb"
      },
      "execution_count": null,
      "outputs": []
    },
    {
      "cell_type": "markdown",
      "source": [
        "**TASK 1.3 (1 Point):**  Next, you need to display the name of the columns in the \"Profiles\" dataset."
      ],
      "metadata": {
        "id": "kH4QpKeXsFE3"
      }
    },
    {
      "cell_type": "code",
      "source": [
        "# Write your code here\n"
      ],
      "metadata": {
        "id": "71EZMoPKsDX0"
      },
      "execution_count": null,
      "outputs": []
    },
    {
      "cell_type": "markdown",
      "source": [
        "**TASK 1.4 (1 Point):**  Now, you need to display the types of the columns in the \"Profiles\" dataset."
      ],
      "metadata": {
        "id": "9PPdHisOsjg0"
      }
    },
    {
      "cell_type": "code",
      "source": [
        "# Write your code here\n"
      ],
      "metadata": {
        "id": "riaoFt2js1DH"
      },
      "execution_count": null,
      "outputs": []
    },
    {
      "cell_type": "markdown",
      "source": [
        "**TASK 1.5 (2 Points):** Utilizing the .count() function on **profiles_df & medical_df** and set it to the variables **profiles_info & medical_info** respectively and then display them. Write any **potential problem** that you see with the dataset when observing the output of the count function:\n",
        "\n",
        "\n"
      ],
      "metadata": {
        "id": "RmNRKK81FyyS"
      }
    },
    {
      "cell_type": "code",
      "source": [
        "# Write your code here for profiles.\n",
        "# You must use the specified variable name for your result.\n",
        "profiles_info ="
      ],
      "metadata": {
        "id": "MXKTQ9k0K84A"
      },
      "execution_count": null,
      "outputs": []
    },
    {
      "cell_type": "code",
      "source": [
        "# Write your code here for medical records.\n",
        "# You must use the specified variable name for your result.\n",
        "medical_info ="
      ],
      "metadata": {
        "id": "P0ejb5vfbbtE"
      },
      "execution_count": null,
      "outputs": []
    },
    {
      "cell_type": "markdown",
      "source": [
        "*Write your observations here:*\n",
        "\n"
      ],
      "metadata": {
        "id": "S-9jv80SKP0x"
      }
    },
    {
      "cell_type": "markdown",
      "source": [
        "**TASK 1.6 (4 Points):** Look back at the \"Profiles\" and \"Medical_Records\" datasets. Can you spot another potential problem with the dataset?"
      ],
      "metadata": {
        "id": "ZHRsBO_7KjOz"
      }
    },
    {
      "cell_type": "markdown",
      "source": [
        "*Write your observation here:*\n"
      ],
      "metadata": {
        "id": "bobQCeJnNTyb"
      }
    },
    {
      "cell_type": "markdown",
      "source": [
        "## Q2) Cleaning the data set (25 Points)"
      ],
      "metadata": {
        "id": "sWeYA6N4Nf-6"
      }
    },
    {
      "cell_type": "markdown",
      "source": [
        "**TASK 2.1 (10 Points):** Lets begin by fixing the Birthday column in the Medical_Records df. You may notice that the dates are in inconsistent format!\n",
        "\n",
        "- Pandas internally represent dates in 'datetime64' format which is a form of ISO 8601. Basically, dates are represented as yyyy-mm-dd.\n",
        "\n",
        "\n",
        "- Fix all the dates in the Birthday Column.\n",
        "- Display the \"Medical_Records\" dataframe after you are done.\n",
        "- Note that the only 2 formats the dates are in is either yyyy/mm/dd or dd/mm/yyyy, you want to represent them as yyyy-mm-dd\n",
        "- you dont have to have it in \"datetime\" type, but it will make it easier in the next step\n",
        "\n",
        "\n",
        "**HINT:** some datetime functions might make things easier.\n",
        "- https://www.geeksforgeeks.org/python-pandas-to_datetime/"
      ],
      "metadata": {
        "id": "vt02sN-9uZIb"
      }
    },
    {
      "cell_type": "code",
      "source": [
        "# Your Code here"
      ],
      "metadata": {
        "id": "bLStgZpUQikT"
      },
      "execution_count": null,
      "outputs": []
    },
    {
      "cell_type": "markdown",
      "source": [
        "**TASK 2.2 (5 Points):** Now that we have cleaned up the Birthday column, lets find the age of each person. Create a new column called \"Age\" that displays the age of the person **on the day of the crime.** Once you are done, display the\n",
        "\"Profiles\" dataframe"
      ],
      "metadata": {
        "id": "FKlHOEj7aPpt"
      }
    },
    {
      "cell_type": "code",
      "source": [
        "# Write your code here.\n",
        "# You must use the specified variable name for your result.\n",
        "medical_df"
      ],
      "metadata": {
        "id": "_p9-0y1hazEz"
      },
      "execution_count": null,
      "outputs": []
    },
    {
      "cell_type": "markdown",
      "source": [
        "**TASK 2.3 (10 Points):** Now that we have created the \"age\"; lets clean the 'Eye_color's column.\n",
        "\n",
        "***Please read the directions carefully:***\n",
        "\n",
        "\n",
        "- In order to fill in the missing eye_colors, we want to figure out what the most common **eye_color** for their blood type\n",
        "- For instance, If someone has a blood type of I, You would find our what the most common eye color for a person of blood type I is. Then you would replace the empty eye_color with that eye color\n",
        "- Watch out for redundant data!\n",
        "\n",
        "- ***: In the case that you find multiple modes, choose the color that appears first in alphabetical order***\n",
        "\n",
        " When you finish filling in the missing eye colors, please display the profiles_df\n"
      ],
      "metadata": {
        "id": "a0gt8jzHgZJQ"
      }
    },
    {
      "cell_type": "code",
      "source": [
        "# Write your code here\n",
        "# You must use the specified variable name for your result.\n",
        "\n",
        "profiles_df\n"
      ],
      "metadata": {
        "id": "gd6uRagRjMhx"
      },
      "execution_count": null,
      "outputs": []
    },
    {
      "cell_type": "markdown",
      "source": [
        "\n",
        "## Q3) Finding the features of the culprit (30 Points)\n",
        "\n",
        "Now that we have successfully cleaned all of our data, lets begin finding the features of the criminal. Take a moment to look at the **\"Witnesses\"** table. We don't necessarily want all the statements from every single witness.\n",
        "\n",
        "**NOTE:** Take a look at the structure of each statement, notice how there are only a few variations of statements from the witnesses.\n",
        "\n",
        "**TASK 3.1 (5 Points):** Find all witnesses that were near the crime scene\n",
        "- First load in the Witness.csv file and set it to a variable called \"**witness_df**\"\n",
        "- create a new dataframe called **\"important_witnesses\"** that contains the id and the witness statements of those who were near the scene of the crime\n",
        "- display the new dataframe when you are finished\n",
        "- **HINT:** look at the floor which the crime happened on."
      ],
      "metadata": {
        "id": "k14ktiue0Tfi"
      }
    },
    {
      "cell_type": "code",
      "source": [
        "# write your answer here\n",
        "# You must use the specified variable name for your result.\n",
        "witness_df =\n",
        "important_witnesses ="
      ],
      "metadata": {
        "id": "ismbbFGWw2Hu"
      },
      "execution_count": null,
      "outputs": []
    },
    {
      "cell_type": "markdown",
      "source": [
        "**TASK 3.2 (5 Points):** Find every potential eye color that the culprit could have\n",
        "\n",
        " - Put all the potential eye colors of the culprit in a list called **\"potential_eye_colors\"** and display it when you're done. potential_eye_colors **should have not have any** duplicate values."
      ],
      "metadata": {
        "id": "OHirO_rbw8fV"
      }
    },
    {
      "cell_type": "code",
      "source": [
        "# Write your answer here\n",
        "# You must use the specified variable name for your result.\n",
        "potential_eye_colors"
      ],
      "metadata": {
        "id": "iNG-V7QFw9aO"
      },
      "execution_count": null,
      "outputs": []
    },
    {
      "cell_type": "markdown",
      "source": [
        "**TASK 3.3 (5 Points):** Find every potential hair color that the culprit could have\n",
        "\n",
        " - Put all the potential hair colors of the culprit in a list called **\"potential_hair_colors\"** and display it when you're done. potential_hair_colors **should have not have any** duplicate values."
      ],
      "metadata": {
        "id": "3NaknJWew5P1"
      }
    },
    {
      "cell_type": "code",
      "source": [
        "# write you answer here\n",
        "# You must use the specified variable name for your result.\n",
        "potential_hair_colors"
      ],
      "metadata": {
        "id": "7ptAepng3aBc"
      },
      "execution_count": null,
      "outputs": []
    },
    {
      "cell_type": "markdown",
      "source": [
        "**TASK 3.4 (5 Points):** Find every potential skin color that the culprit could have\n",
        "\n",
        " - Put all the potential skin colors of the culprit in a list called **\"potential_skin_colors\"** and display it when you're done. potential_skin_colors **should have not have any** duplicate values."
      ],
      "metadata": {
        "id": "ID0tGLC_3bfv"
      }
    },
    {
      "cell_type": "code",
      "source": [
        "# write your answer here\n",
        "# You must use the specified variable name for your result.\n",
        "potential_skin_colors"
      ],
      "metadata": {
        "id": "9S0_khng3fZ7"
      },
      "execution_count": null,
      "outputs": []
    },
    {
      "cell_type": "markdown",
      "source": [
        "**TASK 3.5 (5 Points):** Find the potential height of the culprit\n",
        "\n",
        " - Put the smallest and largest potential heights of the culprit in the variables called **\"smallest_height\" & \"largest_height\"** and display them when you are done"
      ],
      "metadata": {
        "id": "jU8OT78q3t73"
      }
    },
    {
      "cell_type": "code",
      "source": [
        "# Write your answer here\n",
        "# You must use the specified variable name for your result.\n",
        "smallest_height =\n",
        "largest_height ="
      ],
      "metadata": {
        "id": "Hz4sYBQe3zMT"
      },
      "execution_count": null,
      "outputs": []
    },
    {
      "cell_type": "markdown",
      "source": [
        "**TASK 3.6 (5 Points):** Find the potential age of the culprit\n",
        "\n",
        " - Put the smallest and largest potential age of the culprit in the variables called **\"smallest_age\" & \"largest_age\"** and display them when you are done"
      ],
      "metadata": {
        "id": "n3bjueSr4LxH"
      }
    },
    {
      "cell_type": "code",
      "source": [
        "# write your answers here\n",
        "# You must use the specified variable name for your result.\n",
        "smallest_age =\n",
        "largest_age ="
      ],
      "metadata": {
        "id": "fP0uPiGP4VgW"
      },
      "execution_count": null,
      "outputs": []
    },
    {
      "cell_type": "markdown",
      "source": [
        "## Q4) Parking Permit (7 Points)"
      ],
      "metadata": {
        "id": "-T28JmmF4uIs"
      }
    },
    {
      "cell_type": "markdown",
      "source": [
        "**TASK 4.1 (2 Points)**: Loading Final DataFrames.\n",
        "\n",
        "Load the following CSV files into their respective variables:\n",
        "- Lot_11B.csv → lot_11B\n",
        "- Lot_1B.csv → lot_1B\n",
        "- Lot_6.csv → lot_6\n",
        "- Regents_Drive_Garage.csv → regents_garage\n",
        "- Interrogation_Statements.csv → interrogation_df"
      ],
      "metadata": {
        "id": "dSTwOUrC4vy6"
      }
    },
    {
      "cell_type": "code",
      "source": [
        "# Write your answer here\n",
        "# You must use the specified variable name for your result.\n",
        "lot_11B =\n",
        "lot_1B =\n",
        "lot_6 =\n",
        "regents_garage =\n",
        "interrogation_df ="
      ],
      "metadata": {
        "id": "zpD9aMsK49Or"
      },
      "execution_count": null,
      "outputs": []
    },
    {
      "cell_type": "markdown",
      "source": [
        "\n",
        "**TASK 4.2 (5 Points):** Find the Parking lot that the culprit has a permit in\n",
        "\n",
        "- Remember that there was a parking permit left at the crime scene with the numbers 08301000101.\n",
        "- The head of transportation, Olivia Smith, might be able to help us with this case.\n",
        "\n",
        "\n",
        "**HINT:** examine the **\"interogation_df\"**\n",
        "\n"
      ],
      "metadata": {
        "id": "KRzcduTO5fTe"
      }
    },
    {
      "cell_type": "markdown",
      "source": [
        "***Which parking lot does the culprit have a permit in, how do you know?***\n",
        "\n",
        "Answer here:\n"
      ],
      "metadata": {
        "id": "6GTBafiqHXDl"
      }
    },
    {
      "cell_type": "markdown",
      "source": [
        "## Q5) Finding the culprit (6 Points)\n",
        "\n",
        "If you get a \"Can only compare identically-labeled Series objects\" error, the \"iloc\" function may be helpful. https://pandas.pydata.org/pandas-docs/stable/reference/api/pandas.DataFrame.iloc.html\n"
      ],
      "metadata": {
        "id": "oRbVWV7K8uD-"
      }
    },
    {
      "cell_type": "markdown",
      "source": [
        "**TASK 5.1(5 Points):** Using all the data compiled from before find a person that matches all the features from the profile\n",
        "\n",
        "- put the name of the culprit in a variable called **\"culprit\"**"
      ],
      "metadata": {
        "id": "8zcamGVmAKOp"
      }
    },
    {
      "cell_type": "code",
      "source": [
        "# Write your code here\n",
        "# You must use the specified variable name for your result.\n",
        "culprit ="
      ],
      "metadata": {
        "id": "atnueiYN_DsX"
      },
      "execution_count": null,
      "outputs": []
    },
    {
      "cell_type": "markdown",
      "source": [
        "**TASK 5.2 (1 Points):** Check if your culprit is correct!\n",
        "\n",
        "interrogate your culprit to see if you got the correct person"
      ],
      "metadata": {
        "id": "IWNV2rhN_L8d"
      }
    },
    {
      "cell_type": "code",
      "source": [
        "# write your code here"
      ],
      "metadata": {
        "id": "mV_RIdbB_T5w"
      },
      "execution_count": null,
      "outputs": []
    }
  ]
}